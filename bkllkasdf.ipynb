{
 "cells": [
  {
   "cell_type": "code",
   "execution_count": 94,
   "metadata": {},
   "outputs": [
    {
     "name": "stdout",
     "output_type": "stream",
     "text": [
      "Balamk007\n"
     ]
    }
   ],
   "source": [
    "print(\"Balamk007\")"
   ]
  },
  {
   "cell_type": "code",
   "execution_count": 95,
   "metadata": {},
   "outputs": [],
   "source": [
    "import pandas as pd"
   ]
  },
  {
   "cell_type": "code",
   "execution_count": null,
   "metadata": {},
   "outputs": [],
   "source": []
  },
  {
   "cell_type": "code",
   "execution_count": 96,
   "metadata": {},
   "outputs": [
    {
     "data": {
      "text/html": [
       "<div>\n",
       "<style scoped>\n",
       "    .dataframe tbody tr th:only-of-type {\n",
       "        vertical-align: middle;\n",
       "    }\n",
       "\n",
       "    .dataframe tbody tr th {\n",
       "        vertical-align: top;\n",
       "    }\n",
       "\n",
       "    .dataframe thead th {\n",
       "        text-align: right;\n",
       "    }\n",
       "</style>\n",
       "<table border=\"1\" class=\"dataframe\">\n",
       "  <thead>\n",
       "    <tr style=\"text-align: right;\">\n",
       "      <th></th>\n",
       "      <th>URL_ID</th>\n",
       "      <th>URL</th>\n",
       "    </tr>\n",
       "  </thead>\n",
       "  <tbody>\n",
       "    <tr>\n",
       "      <th>0</th>\n",
       "      <td>37</td>\n",
       "      <td>https://insights.blackcoffer.com/ai-in-healthc...</td>\n",
       "    </tr>\n",
       "    <tr>\n",
       "      <th>1</th>\n",
       "      <td>38</td>\n",
       "      <td>https://insights.blackcoffer.com/what-if-the-c...</td>\n",
       "    </tr>\n",
       "    <tr>\n",
       "      <th>2</th>\n",
       "      <td>39</td>\n",
       "      <td>https://insights.blackcoffer.com/what-jobs-wil...</td>\n",
       "    </tr>\n",
       "    <tr>\n",
       "      <th>3</th>\n",
       "      <td>40</td>\n",
       "      <td>https://insights.blackcoffer.com/will-machine-...</td>\n",
       "    </tr>\n",
       "    <tr>\n",
       "      <th>4</th>\n",
       "      <td>41</td>\n",
       "      <td>https://insights.blackcoffer.com/will-ai-repla...</td>\n",
       "    </tr>\n",
       "  </tbody>\n",
       "</table>\n",
       "</div>"
      ],
      "text/plain": [
       "   URL_ID                                                URL\n",
       "0      37  https://insights.blackcoffer.com/ai-in-healthc...\n",
       "1      38  https://insights.blackcoffer.com/what-if-the-c...\n",
       "2      39  https://insights.blackcoffer.com/what-jobs-wil...\n",
       "3      40  https://insights.blackcoffer.com/will-machine-...\n",
       "4      41  https://insights.blackcoffer.com/will-ai-repla..."
      ]
     },
     "execution_count": 96,
     "metadata": {},
     "output_type": "execute_result"
    }
   ],
   "source": [
    "websites = pd.read_excel(\"Input.xlsx\")\n",
    "websites.head()"
   ]
  },
  {
   "cell_type": "code",
   "execution_count": 97,
   "metadata": {},
   "outputs": [
    {
     "data": {
      "text/plain": [
       "(111, 2)"
      ]
     },
     "execution_count": 97,
     "metadata": {},
     "output_type": "execute_result"
    }
   ],
   "source": [
    "websites.shape"
   ]
  },
  {
   "cell_type": "code",
   "execution_count": 98,
   "metadata": {},
   "outputs": [
    {
     "data": {
      "text/plain": [
       "0      https://insights.blackcoffer.com/ai-in-healthc...\n",
       "1      https://insights.blackcoffer.com/what-if-the-c...\n",
       "2      https://insights.blackcoffer.com/what-jobs-wil...\n",
       "3      https://insights.blackcoffer.com/will-machine-...\n",
       "4      https://insights.blackcoffer.com/will-ai-repla...\n",
       "                             ...                        \n",
       "106    https://insights.blackcoffer.com/blockchain-fo...\n",
       "107    https://insights.blackcoffer.com/the-future-of...\n",
       "108    https://insights.blackcoffer.com/big-data-anal...\n",
       "109    https://insights.blackcoffer.com/business-anal...\n",
       "110    https://insights.blackcoffer.com/challenges-an...\n",
       "Name: URL, Length: 111, dtype: object"
      ]
     },
     "execution_count": 98,
     "metadata": {},
     "output_type": "execute_result"
    }
   ],
   "source": [
    "urls = websites['URL']\n",
    "urls"
   ]
  },
  {
   "cell_type": "code",
   "execution_count": 99,
   "metadata": {},
   "outputs": [
    {
     "data": {
      "text/plain": [
       "['https://insights.blackcoffer.com/ai-in-healthcare-to-improve-patient-outcomes/',\n",
       " 'https://insights.blackcoffer.com/what-if-the-creation-is-taking-over-the-creator/',\n",
       " 'https://insights.blackcoffer.com/what-jobs-will-robots-take-from-humans-in-the-future/',\n",
       " 'https://insights.blackcoffer.com/will-machine-replace-the-human-in-the-future-of-work/',\n",
       " 'https://insights.blackcoffer.com/will-ai-replace-us-or-work-with-us/',\n",
       " 'https://insights.blackcoffer.com/man-and-machines-together-machines-are-more-diligent-than-humans-blackcoffe/',\n",
       " 'https://insights.blackcoffer.com/in-future-or-in-upcoming-years-humans-and-machines-are-going-to-work-together-in-every-field-of-work/',\n",
       " 'https://insights.blackcoffer.com/how-machine-learning-will-affect-your-business/',\n",
       " 'https://insights.blackcoffer.com/deep-learning-impact-on-areas-of-e-learning/',\n",
       " 'https://insights.blackcoffer.com/how-to-protect-future-data-and-its-privacy-blackcoffer/',\n",
       " 'https://insights.blackcoffer.com/how-machines-ai-automations-and-robo-human-are-effective-in-finance-and-banking/',\n",
       " 'https://insights.blackcoffer.com/ai-human-robotics-machine-future-planet-blackcoffer-thinking-jobs-workplace/',\n",
       " 'https://insights.blackcoffer.com/how-ai-will-change-the-world-blackcoffer/',\n",
       " 'https://insights.blackcoffer.com/future-of-work-how-ai-has-entered-the-workplace/',\n",
       " 'https://insights.blackcoffer.com/ai-tool-alexa-google-assistant-finance-banking-tool-future/',\n",
       " 'https://insights.blackcoffer.com/ai-healthcare-revolution-ml-technology-algorithm-google-analytics-industrialrevolution/',\n",
       " 'https://insights.blackcoffer.com/all-you-need-to-know-about-online-marketing/',\n",
       " 'https://insights.blackcoffer.com/evolution-of-advertising-industry/',\n",
       " 'https://insights.blackcoffer.com/how-data-analytics-can-help-your-business-respond-to-the-impact-of-covid-19/',\n",
       " 'https://insights.blackcoffer.com/environmental-impact-of-the-covid-19-pandemic-lesson-for-the-future/',\n",
       " 'https://insights.blackcoffer.com/how-data-analytics-and-ai-are-used-to-halt-the-covid-19-pandemic/',\n",
       " 'https://insights.blackcoffer.com/difference-between-artificial-intelligence-machine-learning-statistics-and-data-mining/',\n",
       " 'https://insights.blackcoffer.com/how-python-became-the-first-choice-for-data-science/',\n",
       " 'https://insights.blackcoffer.com/how-google-fit-measure-heart-and-respiratory-rates-using-a-phone/',\n",
       " 'https://insights.blackcoffer.com/what-is-the-future-of-mobile-apps/',\n",
       " 'https://insights.blackcoffer.com/impact-of-ai-in-health-and-medicine/',\n",
       " 'https://insights.blackcoffer.com/telemedicine-what-patients-like-and-dislike-about-it/',\n",
       " 'https://insights.blackcoffer.com/how-we-forecast-future-technologies/',\n",
       " 'https://insights.blackcoffer.com/can-robots-tackle-late-life-loneliness/',\n",
       " 'https://insights.blackcoffer.com/embedding-care-robots-into-society-socio-technical-considerations/',\n",
       " 'https://insights.blackcoffer.com/management-challenges-for-future-digitalization-of-healthcare-services/',\n",
       " 'https://insights.blackcoffer.com/are-we-any-closer-to-preventing-a-nuclear-holocaust/',\n",
       " 'https://insights.blackcoffer.com/will-technology-eliminate-the-need-for-animal-testing-in-drug-development/',\n",
       " 'https://insights.blackcoffer.com/will-we-ever-understand-the-nature-of-consciousness/',\n",
       " 'https://insights.blackcoffer.com/will-we-ever-colonize-outer-space/',\n",
       " 'https://insights.blackcoffer.com/what-is-the-chance-homo-sapiens-will-survive-for-the-next-500-years/',\n",
       " 'https://insights.blackcoffer.com/why-does-your-business-need-a-chatbot/',\n",
       " 'https://insights.blackcoffer.com/how-you-lead-a-project-or-a-team-without-any-technical-expertise/',\n",
       " 'https://insights.blackcoffer.com/can-you-be-great-leader-without-technical-expertise/',\n",
       " 'https://insights.blackcoffer.com/how-does-artificial-intelligence-affect-the-environment/',\n",
       " 'https://insights.blackcoffer.com/how-to-overcome-your-fear-of-making-mistakes-2/',\n",
       " 'https://insights.blackcoffer.com/is-perfection-the-greatest-enemy-of-productivity/',\n",
       " 'https://insights.blackcoffer.com/global-financial-crisis-2008-causes-effects-and-its-solution/',\n",
       " 'https://insights.blackcoffer.com/gender-diversity-and-equality-in-the-tech-industry/',\n",
       " 'https://insights.blackcoffer.com/how-to-overcome-your-fear-of-making-mistakes/',\n",
       " 'https://insights.blackcoffer.com/how-small-business-can-survive-the-coronavirus-crisis/',\n",
       " 'https://insights.blackcoffer.com/impacts-of-covid-19-on-vegetable-vendors-and-food-stalls/',\n",
       " 'https://insights.blackcoffer.com/impacts-of-covid-19-on-vegetable-vendors/',\n",
       " 'https://insights.blackcoffer.com/impact-of-covid-19-pandemic-on-tourism-aviation-industries/',\n",
       " 'https://insights.blackcoffer.com/impact-of-covid-19-pandemic-on-sports-events-around-the-world/',\n",
       " 'https://insights.blackcoffer.com/changing-landscape-and-emerging-trends-in-the-indian-it-ites-industry/',\n",
       " 'https://insights.blackcoffer.com/online-gaming-adolescent-online-gaming-effects-demotivated-depression-musculoskeletal-and-psychosomatic-symptoms/',\n",
       " 'https://insights.blackcoffer.com/human-rights-outlook/',\n",
       " 'https://insights.blackcoffer.com/how-voice-search-makes-your-business-a-successful-business/',\n",
       " 'https://insights.blackcoffer.com/how-the-covid-19-crisis-is-redefining-jobs-and-services/',\n",
       " 'https://insights.blackcoffer.com/how-to-increase-social-media-engagement-for-marketers/',\n",
       " 'https://insights.blackcoffer.com/impacts-of-covid-19-on-streets-sides-food-stalls/',\n",
       " 'https://insights.blackcoffer.com/coronavirus-impact-on-energy-markets-2/',\n",
       " 'https://insights.blackcoffer.com/coronavirus-impact-on-the-hospitality-industry-5/',\n",
       " 'https://insights.blackcoffer.com/lessons-from-the-past-some-key-learnings-relevant-to-the-coronavirus-crisis-4/',\n",
       " 'https://insights.blackcoffer.com/estimating-the-impact-of-covid-19-on-the-world-of-work-2/',\n",
       " 'https://insights.blackcoffer.com/estimating-the-impact-of-covid-19-on-the-world-of-work-3/',\n",
       " 'https://insights.blackcoffer.com/travel-and-tourism-outlook/',\n",
       " 'https://insights.blackcoffer.com/gaming-disorder-and-effects-of-gaming-on-health/',\n",
       " 'https://insights.blackcoffer.com/what-is-the-repercussion-of-the-environment-due-to-the-covid-19-pandemic-situation/',\n",
       " 'https://insights.blackcoffer.com/what-is-the-repercussion-of-the-environment-due-to-the-covid-19-pandemic-situation-2/',\n",
       " 'https://insights.blackcoffer.com/impact-of-covid-19-pandemic-on-office-space-and-co-working-industries/',\n",
       " 'https://insights.blackcoffer.com/contribution-of-handicrafts-visual-arts-literature-in-the-indian-economy/',\n",
       " 'https://insights.blackcoffer.com/how-covid-19-is-impacting-payment-preferences/',\n",
       " 'https://insights.blackcoffer.com/how-will-covid-19-affect-the-world-of-work-2/',\n",
       " 'https://insights.blackcoffer.com/lessons-from-the-past-some-key-learnings-relevant-to-the-coronavirus-crisis/',\n",
       " 'https://insights.blackcoffer.com/covid-19-how-have-countries-been-responding/',\n",
       " 'https://insights.blackcoffer.com/coronavirus-impact-on-the-hospitality-industry-2/',\n",
       " 'https://insights.blackcoffer.com/how-will-covid-19-affect-the-world-of-work-3/',\n",
       " 'https://insights.blackcoffer.com/coronavirus-impact-on-the-hospitality-industry-3/',\n",
       " 'https://insights.blackcoffer.com/estimating-the-impact-of-covid-19-on-the-world-of-work/',\n",
       " 'https://insights.blackcoffer.com/covid-19-how-have-countries-been-responding-2/',\n",
       " 'https://insights.blackcoffer.com/how-will-covid-19-affect-the-world-of-work-4/',\n",
       " 'https://insights.blackcoffer.com/lessons-from-the-past-some-key-learnings-relevant-to-the-coronavirus-crisis-2/',\n",
       " 'https://insights.blackcoffer.com/lessons-from-the-past-some-key-learnings-relevant-to-the-coronavirus-crisis-3/',\n",
       " 'https://insights.blackcoffer.com/coronavirus-impact-on-the-hospitality-industry-4/',\n",
       " 'https://insights.blackcoffer.com/why-scams-like-nirav-modi-happen-with-indian-banks/',\n",
       " 'https://insights.blackcoffer.com/impact-of-covid-19-on-the-global-economy/',\n",
       " 'https://insights.blackcoffer.com/impact-of-covid-19coronavirus-on-the-indian-economy-2/',\n",
       " 'https://insights.blackcoffer.com/impact-of-covid-19-on-the-global-economy-2/',\n",
       " 'https://insights.blackcoffer.com/impact-of-covid-19-coronavirus-on-the-indian-economy-3/',\n",
       " 'https://insights.blackcoffer.com/should-celebrities-be-allowed-to-join-politics/',\n",
       " 'https://insights.blackcoffer.com/how-prepared-is-india-to-tackle-a-possible-covid-19-outbreak/',\n",
       " 'https://insights.blackcoffer.com/how-will-covid-19-affect-the-world-of-work/',\n",
       " 'https://insights.blackcoffer.com/controversy-as-a-marketing-strategy/',\n",
       " 'https://insights.blackcoffer.com/coronavirus-impact-on-the-hospitality-industry/',\n",
       " 'https://insights.blackcoffer.com/coronavirus-impact-on-energy-markets/',\n",
       " 'https://insights.blackcoffer.com/what-are-the-key-policies-that-will-mitigate-the-impacts-of-covid-19-on-the-world-of-work/',\n",
       " 'https://insights.blackcoffer.com/marketing-drives-results-with-a-focus-on-problems/',\n",
       " 'https://insights.blackcoffer.com/continued-demand-for-sustainability/',\n",
       " 'https://insights.blackcoffer.com/coronavirus-disease-covid-19-effect-the-impact-and-role-of-mass-media-during-the-pandemic/',\n",
       " 'https://insights.blackcoffer.com/should-people-wear-fabric-gloves-seeking-evidence-regarding-the-differential-transfer-of-covid-19-or-coronaviruses-generally-between-surfaces/',\n",
       " 'https://insights.blackcoffer.com/why-is-there-a-severe-immunological-and-inflammatory-explosion-in-those-affected-by-sarms-covid-19/',\n",
       " 'https://insights.blackcoffer.com/what-do-you-think-is-the-lesson-or-lessons-to-be-learned-with-covid-19/',\n",
       " 'https://insights.blackcoffer.com/coronavirus-the-unexpected-challenge-for-the-european-union/',\n",
       " 'https://insights.blackcoffer.com/industrial-revolution-4-0-pros-and-cons/',\n",
       " 'https://insights.blackcoffer.com/impact-of-covid-19-coronavirus-on-the-indian-economy/',\n",
       " 'https://insights.blackcoffer.com/impact-of-covid-19-coronavirus-on-the-indian-economy-2/',\n",
       " 'https://insights.blackcoffer.com/impact-of-covid-19coronavirus-on-the-indian-economy/',\n",
       " 'https://insights.blackcoffer.com/impact-of-covid-19-coronavirus-on-the-global-economy/',\n",
       " 'https://insights.blackcoffer.com/blockchain-in-fintech/',\n",
       " 'https://insights.blackcoffer.com/blockchain-for-payments/',\n",
       " 'https://insights.blackcoffer.com/the-future-of-investing/',\n",
       " 'https://insights.blackcoffer.com/big-data-analytics-in-healthcare/',\n",
       " 'https://insights.blackcoffer.com/business-analytics-in-the-healthcare-industry/',\n",
       " 'https://insights.blackcoffer.com/challenges-and-opportunities-of-big-data-in-healthcare/']"
      ]
     },
     "execution_count": 99,
     "metadata": {},
     "output_type": "execute_result"
    }
   ],
   "source": [
    "urlList = urls.tolist()\n",
    "urlList"
   ]
  },
  {
   "cell_type": "code",
   "execution_count": 100,
   "metadata": {},
   "outputs": [
    {
     "data": {
      "text/plain": [
       "0       37\n",
       "1       38\n",
       "2       39\n",
       "3       40\n",
       "4       41\n",
       "      ... \n",
       "106    146\n",
       "107    147\n",
       "108    148\n",
       "109    149\n",
       "110    150\n",
       "Name: URL_ID, Length: 111, dtype: int64"
      ]
     },
     "execution_count": 100,
     "metadata": {},
     "output_type": "execute_result"
    }
   ],
   "source": [
    "urlIds = websites[\"URL_ID\"]\n",
    "urlIds"
   ]
  },
  {
   "cell_type": "code",
   "execution_count": 101,
   "metadata": {},
   "outputs": [],
   "source": [
    "import requests\n",
    "from bs4 import BeautifulSoup"
   ]
  },
  {
   "cell_type": "code",
   "execution_count": 102,
   "metadata": {},
   "outputs": [
    {
     "data": {
      "text/plain": [
       "[37,\n",
       " 38,\n",
       " 39,\n",
       " 40,\n",
       " 41,\n",
       " 42,\n",
       " 43,\n",
       " 45,\n",
       " 46,\n",
       " 47,\n",
       " 48,\n",
       " 49,\n",
       " 50,\n",
       " 51,\n",
       " 52,\n",
       " 53,\n",
       " 54,\n",
       " 55,\n",
       " 56,\n",
       " 58,\n",
       " 59,\n",
       " 60,\n",
       " 61,\n",
       " 62,\n",
       " 63,\n",
       " 64,\n",
       " 65,\n",
       " 66,\n",
       " 67,\n",
       " 68,\n",
       " 69,\n",
       " 70,\n",
       " 71,\n",
       " 72,\n",
       " 73,\n",
       " 74,\n",
       " 75,\n",
       " 76,\n",
       " 77,\n",
       " 78,\n",
       " 79,\n",
       " 80,\n",
       " 81,\n",
       " 82,\n",
       " 83,\n",
       " 84,\n",
       " 85,\n",
       " 86,\n",
       " 87,\n",
       " 88,\n",
       " 89,\n",
       " 90,\n",
       " 91,\n",
       " 92,\n",
       " 93,\n",
       " 94,\n",
       " 95,\n",
       " 96,\n",
       " 97,\n",
       " 98,\n",
       " 99,\n",
       " 100,\n",
       " 101,\n",
       " 102,\n",
       " 103,\n",
       " 104,\n",
       " 105,\n",
       " 106,\n",
       " 107,\n",
       " 108,\n",
       " 109,\n",
       " 110,\n",
       " 111,\n",
       " 112,\n",
       " 113,\n",
       " 114,\n",
       " 115,\n",
       " 116,\n",
       " 117,\n",
       " 118,\n",
       " 119,\n",
       " 120,\n",
       " 121,\n",
       " 122,\n",
       " 123,\n",
       " 124,\n",
       " 125,\n",
       " 126,\n",
       " 127,\n",
       " 128,\n",
       " 129,\n",
       " 130,\n",
       " 131,\n",
       " 132,\n",
       " 133,\n",
       " 134,\n",
       " 135,\n",
       " 136,\n",
       " 137,\n",
       " 138,\n",
       " 139,\n",
       " 140,\n",
       " 141,\n",
       " 142,\n",
       " 143,\n",
       " 145,\n",
       " 146,\n",
       " 147,\n",
       " 148,\n",
       " 149,\n",
       " 150]"
      ]
     },
     "execution_count": 102,
     "metadata": {},
     "output_type": "execute_result"
    }
   ],
   "source": [
    "\n",
    "f_names = urlIds.tolist()\n",
    "f_names"
   ]
  },
  {
   "cell_type": "code",
   "execution_count": 103,
   "metadata": {},
   "outputs": [
    {
     "name": "stdout",
     "output_type": "stream",
     "text": [
      "Done\n"
     ]
    }
   ],
   "source": [
    "\n",
    "headers = {\n",
    "    'user-agent': 'Mozilla/5.0 (Macintosh; Intel Mac OS X 10_15_7) AppleWebKit/537.36 (KHTML, like Gecko) Chrome/102.0.0.0 Safari/537.36',\n",
    "}\n",
    "\n",
    "titles = []\n",
    "\n",
    "index = 0\n",
    "\n",
    "for urlId in urlIds:\n",
    "    r = requests.get(urlList[index], headers=headers)\n",
    "    soup = BeautifulSoup(r.content, 'html.parser')\n",
    "\n",
    "    s = soup.find('header', class_='td-post-title')\n",
    "    heads = s.find('h1')\n",
    "\n",
    "    head = heads.get_text()\n",
    "\n",
    "    p = soup.find(\"div\", class_ = \"td-post-content\")\n",
    "    ps = p.find_all(\"p\")\n",
    "\n",
    "    paras = []\n",
    "\n",
    "    for p in ps:\n",
    "        paras.append(p.text)\n",
    "               \n",
    "    with open(\"%s.txt\" % urlId, \"w\", encoding=\"utf-8\") as f:\n",
    "        f.write(\"%s\\n\" %head)\n",
    "        for para in paras:\n",
    "            f.write(\"%s\\n\" %para)\n",
    "    \n",
    "    index += 1\n",
    "    \n",
    "print(\"Done\")"
   ]
  },
  {
   "cell_type": "code",
   "execution_count": null,
   "metadata": {},
   "outputs": [],
   "source": []
  },
  {
   "cell_type": "code",
   "execution_count": null,
   "metadata": {},
   "outputs": [],
   "source": []
  },
  {
   "cell_type": "code",
   "execution_count": null,
   "metadata": {},
   "outputs": [],
   "source": []
  },
  {
   "cell_type": "code",
   "execution_count": null,
   "metadata": {},
   "outputs": [],
   "source": []
  },
  {
   "cell_type": "code",
   "execution_count": null,
   "metadata": {},
   "outputs": [],
   "source": [
    "\n"
   ]
  },
  {
   "cell_type": "code",
   "execution_count": null,
   "metadata": {},
   "outputs": [],
   "source": []
  },
  {
   "cell_type": "code",
   "execution_count": null,
   "metadata": {},
   "outputs": [],
   "source": [
    "\n",
    "\n",
    "        "
   ]
  },
  {
   "cell_type": "code",
   "execution_count": null,
   "metadata": {},
   "outputs": [],
   "source": []
  },
  {
   "cell_type": "code",
   "execution_count": null,
   "metadata": {},
   "outputs": [],
   "source": []
  },
  {
   "cell_type": "code",
   "execution_count": null,
   "metadata": {},
   "outputs": [],
   "source": []
  },
  {
   "cell_type": "code",
   "execution_count": null,
   "metadata": {},
   "outputs": [],
   "source": []
  },
  {
   "cell_type": "code",
   "execution_count": null,
   "metadata": {},
   "outputs": [],
   "source": [
    "a = requests.get('https://insights.blackcoffer.com/how-small-business-can-survive-the-coronavirus-crisis/', headers= headers)\n",
    "sou = BeautifulSoup(a.content, 'html.parser')\n",
    "\n",
    "s = soup.find('header', class_='td-post-title')\n",
    "heads = s.find('h1')\n",
    "\n",
    "head = heads.get_text()\n",
    "\n",
    "r = sou.find(\"div\", class_= \"td-post-content\")\n",
    "ps = r.find_all(\"p\")\n",
    "\n",
    "paras = []\n",
    "\n",
    "for p in ps:\n",
    "    paras.append(p.text)\n",
    "    print(paras)\n",
    "    with open(\"Bal.txt\", \"w\") as f:\n",
    "        f.write(\"%s\\n\" %head)\n",
    "        for para in paras:\n",
    "            f.write(\"%s\\n\" % para)\n",
    "print('Done')"
   ]
  },
  {
   "cell_type": "code",
   "execution_count": null,
   "metadata": {},
   "outputs": [],
   "source": [
    "titles.append(heads.get_text())\n",
    "index = 0\n",
    "for urlId in urlIds:\n",
    "    with open(\"%s.txt\" % urlId, 'w') as f:\n",
    "        f.write(titles[index])\n",
    "        index+=1\n",
    "\n",
    "print(titles)\n",
    "\n",
    "titles[57]\n",
    "subject = []\n",
    "\n",
    "headers = {\n",
    "    'user-agent': 'Mozilla/5.0 (Macintosh; Intel Mac OS X 10_15_7) AppleWebKit/537.36 (KHTML, like Gecko) Chrome/102.0.0.0 Safari/537.36',\n",
    "}\n",
    "\n",
    "subject = []\n",
    "\n",
    "for url in urls:\n",
    "    r = requests.get(url, headers=headers)\n",
    "    soup = BeautifulSoup(r.content, 'html.parser')\n",
    "\n",
    "    p = soup.find(\"div\", class_ = \"td-post-content\")\n",
    "    paras = p.find_all(\"p\")"
   ]
  },
  {
   "cell_type": "code",
   "execution_count": null,
   "metadata": {},
   "outputs": [],
   "source": [
    "headers = {\n",
    "    'user-agent': 'Mozilla/5.0 (Macintosh; Intel Mac OS X 10_15_7) AppleWebKit/537.36 (KHTML, like Gecko) Chrome/102.0.0.0 Safari/537.36',\n",
    "}\n",
    "\n",
    "# filename = urlIds+\".txt\"\n",
    "\n",
    "for url in urls:\n",
    "    r = requests.get(url, headers=headers)\n",
    "    soup = BeautifulSoup(r.content, 'html.parser')\n",
    "\n",
    "    s = soup.find('header', class_='td-post-title')\n",
    "    heads = s.find('h1')\n",
    "    f = open(\"tst.txt\", \"w\")\n",
    "    sum = heads.get_text()\n",
    "    f.writelines(sum)"
   ]
  }
 ],
 "metadata": {
  "kernelspec": {
   "display_name": "Python 3.10.6 64-bit",
   "language": "python",
   "name": "python3"
  },
  "language_info": {
   "codemirror_mode": {
    "name": "ipython",
    "version": 3
   },
   "file_extension": ".py",
   "mimetype": "text/x-python",
   "name": "python",
   "nbconvert_exporter": "python",
   "pygments_lexer": "ipython3",
   "version": "3.10.6"
  },
  "orig_nbformat": 4,
  "vscode": {
   "interpreter": {
    "hash": "4b80b345ea30374c40c0521cc6d97f8e37e12118c7eb497ec5b8619f4ff4ff1c"
   }
  }
 },
 "nbformat": 4,
 "nbformat_minor": 2
}
